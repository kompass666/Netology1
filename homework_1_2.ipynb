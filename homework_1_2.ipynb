{
 "cells": [
  {
   "cell_type": "code",
   "execution_count": 1,
   "id": "d5d2e58a",
   "metadata": {},
   "outputs": [
    {
     "name": "stdout",
     "output_type": "stream",
     "text": [
      "2023\n",
      "Год  2023 не високосный\n"
     ]
    }
   ],
   "source": [
    "#Задание №1\n",
    "\n",
    "year = int(input())\n",
    "\n",
    "if (year % 4 == 0) and (year % 100 != 0) or (year % 400 == 0):\n",
    "    print(\"Год \", str(year), \"високосный\")\n",
    "else: \n",
    "    print(\"Год \", str(year), \"не високосный\")\n"
   ]
  },
  {
   "cell_type": "code",
   "execution_count": 17,
   "id": "546c1d43",
   "metadata": {},
   "outputs": [
    {
     "name": "stdout",
     "output_type": "stream",
     "text": [
      "123123\n",
      "У Вас счастливый билет <3\n"
     ]
    }
   ],
   "source": [
    "#Задание №2\n",
    "\n",
    "ticket = int(input())\n",
    "ticket_now = ticket\n",
    "counter_beginning = 0\n",
    "counter_end = 0\n",
    "\n",
    "for i in range (1,7):\n",
    "    ticket_now = ticket % 10\n",
    "    if ticket > 999:\n",
    "        counter_end += ticket_now\n",
    "    else:\n",
    "        counter_beginning += ticket_now\n",
    "    ticket = ticket // 10\n",
    "if counter_beginning == counter_end:\n",
    "    print(\"У Вас счастливый билет <3\")\n",
    "else: print(\"У Вас несчастливый билет :(\")"
   ]
  },
  {
   "cell_type": "code",
   "execution_count": null,
   "id": "7b6b071f",
   "metadata": {},
   "outputs": [],
   "source": []
  },
  {
   "cell_type": "code",
   "execution_count": null,
   "id": "5d061af0",
   "metadata": {},
   "outputs": [],
   "source": []
  }
 ],
 "metadata": {
  "kernelspec": {
   "display_name": "Python 3 (ipykernel)",
   "language": "python",
   "name": "python3"
  },
  "language_info": {
   "codemirror_mode": {
    "name": "ipython",
    "version": 3
   },
   "file_extension": ".py",
   "mimetype": "text/x-python",
   "name": "python",
   "nbconvert_exporter": "python",
   "pygments_lexer": "ipython3",
   "version": "3.11.4"
  }
 },
 "nbformat": 4,
 "nbformat_minor": 5
}
