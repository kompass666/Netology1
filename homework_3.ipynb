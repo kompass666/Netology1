{
 "cells": [
  {
   "cell_type": "code",
   "execution_count": 1,
   "id": "6dad2568",
   "metadata": {},
   "outputs": [
    {
     "name": "stdout",
     "output_type": "stream",
     "text": [
      "{'milk15': False, 'cheese': True, 'sausage': False}\n"
     ]
    }
   ],
   "source": [
    "#Задание 1\n",
    "\n",
    "items = {\n",
    "    'milk15': {'name': 'молоко 1.5%', 'count': '34', 'price': 89.9},\n",
    "    'cheese': {'name': 'сыр молочный 1 кг.', 'count': '12', 'price': 990.9},\n",
    "    'sausage': {'name': 'колбаса 1 кг.', 'count': '122', 'price': 1990.9}\n",
    "}\n",
    "\n",
    "price_less_20 = {key: int(value['count']) < 20 for key, value in items.items()}\n",
    "print(price_less_20)"
   ]
  },
  {
   "cell_type": "code",
   "execution_count": null,
   "id": "78740d39",
   "metadata": {},
   "outputs": [],
   "source": []
  }
 ],
 "metadata": {
  "kernelspec": {
   "display_name": "Python 3 (ipykernel)",
   "language": "python",
   "name": "python3"
  },
  "language_info": {
   "codemirror_mode": {
    "name": "ipython",
    "version": 3
   },
   "file_extension": ".py",
   "mimetype": "text/x-python",
   "name": "python",
   "nbconvert_exporter": "python",
   "pygments_lexer": "ipython3",
   "version": "3.11.4"
  }
 },
 "nbformat": 4,
 "nbformat_minor": 5
}
