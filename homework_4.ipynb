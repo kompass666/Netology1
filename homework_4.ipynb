{
 "cells": [
  {
   "cell_type": "code",
   "execution_count": 5,
   "id": "ef22c422",
   "metadata": {},
   "outputs": [
    {
     "name": "stdout",
     "output_type": "stream",
     "text": [
      "Введите команду: q\n"
     ]
    }
   ],
   "source": [
    "#Домашняя работа. Задние 1 и 2\n",
    "\n",
    "def get_shelf_by_doc_number(doc_number):\n",
    "    for shelf, docs in directories.items():\n",
    "        if doc_number in docs:\n",
    "            return shelf\n",
    "    return 'Документ не найден в базе'\n",
    "\n",
    "command = input('Введите команду: ')\n",
    "while command != 'q':\n",
    "    if command == 'p':\n",
    "        doc_number = input('Введите номер документа: ')\n",
    "        print('Результат:')\n",
    "        print('Владелец документа:', get_owner_by_doc_number(doc_number))\n",
    "    elif command == 's':\n",
    "        doc_number = input('Введите номер документа: ')\n",
    "        print('Результат:')\n",
    "        print('Документ хранится на полке:', get_shelf_by_doc_number(doc_number))\n",
    "    command = input('Введите команду: ')"
   ]
  },
  {
   "cell_type": "code",
   "execution_count": null,
   "id": "46dabd5d",
   "metadata": {},
   "outputs": [],
   "source": []
  }
 ],
 "metadata": {
  "kernelspec": {
   "display_name": "Python 3 (ipykernel)",
   "language": "python",
   "name": "python3"
  },
  "language_info": {
   "codemirror_mode": {
    "name": "ipython",
    "version": 3
   },
   "file_extension": ".py",
   "mimetype": "text/x-python",
   "name": "python",
   "nbconvert_exporter": "python",
   "pygments_lexer": "ipython3",
   "version": "3.11.4"
  }
 },
 "nbformat": 4,
 "nbformat_minor": 5
}
